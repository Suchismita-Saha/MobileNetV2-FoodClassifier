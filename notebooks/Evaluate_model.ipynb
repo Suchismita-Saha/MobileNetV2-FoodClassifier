{
  "cells": [
    {
      "cell_type": "markdown",
      "metadata": {},
      "source": [
        "# **Model Evaluation and Conversion to TensorFlow Lite**\n",
        "\n",
        "This notebook focuses on evaluating the performance of the model on  test dataset and converting it to TensorFlow Lite (TFLite) format. The TFLite format is optimized for inference on mobile and edge devices, making it ideal for deployment in resource-constrained environments."
      ]
    },
    {
      "cell_type": "code",
      "execution_count": null,
      "metadata": {},
      "outputs": [],
      "source": [
        "%run -i Training.ipynb"
      ]
    },
    {
      "cell_type": "markdown",
      "metadata": {
        "id": "MMHm-oFvuKSg"
      },
      "source": [
        "### **Importing necessary libraries**"
      ]
    },
    {
      "cell_type": "code",
      "execution_count": 16,
      "metadata": {
        "id": "XQ058pPM94hM"
      },
      "outputs": [],
      "source": [
        "import os"
      ]
    },
    {
      "cell_type": "markdown",
      "metadata": {},
      "source": [
        "### **Model Evaluation on Test Data**"
      ]
    },
    {
      "cell_type": "code",
      "execution_count": 43,
      "metadata": {
        "colab": {
          "base_uri": "https://localhost:8080/"
        },
        "id": "Pwn6d4VAKeiA",
        "outputId": "e9b8a769-e826-47d0-f6d1-44f2bbd7f054"
      },
      "outputs": [
        {
          "name": "stdout",
          "output_type": "stream",
          "text": [
            "26/26 [==============================] - 5s 159ms/step - loss: 0.4304 - accuracy: 0.9314\n"
          ]
        }
      ],
      "source": [
        "model_test=model.evaluate(test_ds)"
      ]
    },
    {
      "cell_type": "markdown",
      "metadata": {},
      "source": [
        "### **Make a directory to save the model**"
      ]
    },
    {
      "cell_type": "code",
      "execution_count": 45,
      "metadata": {
        "id": "LNz0N4P4mrp4"
      },
      "outputs": [],
      "source": [
        "os.mkdir('saved_models')"
      ]
    },
    {
      "cell_type": "markdown",
      "metadata": {},
      "source": [
        "### **Conversion and Saving of TensorFlow Lite Model**"
      ]
    },
    {
      "cell_type": "code",
      "execution_count": 46,
      "metadata": {
        "id": "JHIl4OqiLVCX"
      },
      "outputs": [],
      "source": [
        "# Convert the model to TensorFlow Lite format\n",
        "converter = tf.lite.TFLiteConverter.from_keras_model(model)\n",
        "tflite_model = converter.convert()\n",
        "\n",
        "# Save the TensorFlow Lite model to file\n",
        "with open('/content/saved_models/Food_ingredients_classifier.tflite', 'wb') as f:\n",
        "    f.write(tflite_model)"
      ]
    }
  ],
  "metadata": {
    "accelerator": "GPU",
    "colab": {
      "gpuType": "T4",
      "provenance": []
    },
    "kernelspec": {
      "display_name": "Python 3",
      "name": "python3"
    },
    "language_info": {
      "name": "python"
    }
  },
  "nbformat": 4,
  "nbformat_minor": 0
}
